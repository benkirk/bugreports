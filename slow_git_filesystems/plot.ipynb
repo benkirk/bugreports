{
 "cells": [
  {
   "cell_type": "markdown",
   "id": "81069bac-a843-4a83-ba95-c8b7ee0fcd8a",
   "metadata": {},
   "source": [
    "# Plot filesystem workload tests"
   ]
  },
  {
   "cell_type": "code",
   "execution_count": null,
   "id": "d4fe086a-29c3-4d09-8356-ba5299a8f153",
   "metadata": {},
   "outputs": [],
   "source": [
    "import numpy as np\n",
    "import matplotlib\n",
    "import matplotlib.pyplot as plt\n",
    "import matplotlib.font_manager as font_manager\n",
    "import pandas as pd\n",
    "from collections import defaultdict\n",
    "import sys\n",
    "import yaml\n",
    "import math\n",
    "import glob\n",
    "import os\n",
    "import json\n",
    "from tqdm.notebook import tqdm\n",
    "from IPython.display import display,Image\n",
    "from datetime import date\n",
    "from ncar_branding import *\n",
    "\n",
    "# Unit Conversions\n",
    "kb2mb = 1000\n",
    "kb2gb = 1000*kb2mb\n",
    "kb2tb = 1000*kb2gb"
   ]
  },
  {
   "cell_type": "code",
   "execution_count": null,
   "id": "a1dd3167-63aa-4792-830c-5f5553838c76",
   "metadata": {},
   "outputs": [],
   "source": [
    "times = defaultdict(list)\n",
    "paths = set()\n",
    "hosts = set()\n",
    "fname2path = {}\n",
    "dfs = {}"
   ]
  },
  {
   "cell_type": "code",
   "execution_count": null,
   "id": "96dae45f-2f82-4346-b318-87d82bb4429c",
   "metadata": {},
   "outputs": [],
   "source": [
    "def load_metadata():\n",
    "    alldates = set()\n",
    "    times.clear()\n",
    "    dfs.clear() \n",
    "    \n",
    "    for filename in tqdm(glob.glob('logs/*-GIT_CLONE.csv'), \n",
    "                         desc='Processing CSVs',\n",
    "                         unit='file'): \n",
    "    \n",
    "        dtype= {'Elapsed(s)'  : 'Int64',}\n",
    "    \n",
    "        #print(filename)\n",
    "        host = None\n",
    "        path = None\n",
    "        with open(filename,'r') as f:\n",
    "            for line in f:\n",
    "                if '# ' in line:\n",
    "                    line=line.strip().split()\n",
    "                    #print(line[1], line[3])\n",
    "                    host = line[1]\n",
    "                    path = line[3]\n",
    "                    break\n",
    "    \n",
    "        assert host\n",
    "        assert path\n",
    "        hosts.add(host)\n",
    "        paths.add(path)\n",
    "        fname2path[filename] = path\n",
    "        \n",
    "        df = pd.read_csv(filename,\n",
    "                         skipinitialspace=True,\n",
    "                         dtype=dtype,\n",
    "                         comment='#',\n",
    "                         parse_dates=['Date'],\n",
    "                        )\n",
    "        df.set_index('Date',inplace=True)\n",
    "        alldates.update(set(df.index.to_list()))\n",
    "            \n",
    "    return (min(alldates), max(alldates)) "
   ]
  },
  {
   "cell_type": "code",
   "execution_count": null,
   "id": "1ef3da54-b778-4767-a32a-f83f27d7ceef",
   "metadata": {},
   "outputs": [],
   "source": [
    "def load_data(pattern):\n",
    "    alltimes = set()\n",
    "    times.clear()\n",
    "    dfs.clear() \n",
    "    \n",
    "    for filename in tqdm(glob.glob(pattern), \n",
    "                         desc='Processing CSVs',\n",
    "                         unit='file'): \n",
    "    \n",
    "        dtype= { 'Elapsed(s)'  : 'Int64',}\n",
    "    \n",
    "        #print(filename)\n",
    "        host = None\n",
    "        path = None\n",
    "        with open(filename,'r') as f:\n",
    "            for line in f:\n",
    "                if '# ' in line:\n",
    "                    line=line.strip().split()\n",
    "                    #print(line[1], line[3])\n",
    "                    host = line[1]\n",
    "                    path = line[3]\n",
    "                    break\n",
    "    \n",
    "        assert host\n",
    "        assert path\n",
    "        hosts.add(host)\n",
    "        paths.add(path)\n",
    "        fname2path[filename] = path\n",
    "        \n",
    "        #print(host, path)    \n",
    "        \n",
    "        df = pd.read_csv(filename,\n",
    "                         skipinitialspace=True,\n",
    "                         dtype=dtype,\n",
    "                         comment='#',\n",
    "                         parse_dates=['Date'],\n",
    "                         date_format='ISO8601'\n",
    "                        )\n",
    "        df.set_index('Date',inplace=True)\n",
    "    \n",
    "        dfs[filename] = df\n",
    "    \n",
    "        alltimes.update(set(df['Elapsed(s)'].to_list()))\n",
    "        \n",
    "        times[path].extend(df['Elapsed(s)'].to_list())\n",
    "        \n",
    "        #fastest = np.max(fastest,df['Elapsed(s)'].max())\n",
    "        #print(fastest)\n",
    "        #display(df)\n",
    "        #display(df.info(memory_usage=True))\n",
    "    \n",
    "        #print(pd.to_datetime(df.iloc[-1]))\n",
    "        #break\n",
    "    \n",
    "    return (min(alltimes), max(alltimes)) "
   ]
  },
  {
   "cell_type": "code",
   "execution_count": null,
   "id": "4bb5484c-69c8-42ba-925b-e69358ed906f",
   "metadata": {},
   "outputs": [],
   "source": [
    "def histogram(items,xlabel):\n",
    "    \n",
    "    fig, ax = plt.subplots(1, 1,\n",
    "                           figsize=(12,6))\n",
    "    format_ax(ax)\n",
    "    \n",
    "    \n",
    "    bins = np.linspace(fastest, slowest, 11)\n",
    "    #print(bins)\n",
    "    \n",
    "    ts = list()\n",
    "    ls = list()\n",
    "    \n",
    "    for p in sorted(items):\n",
    "        assert p in times\n",
    "        t = times[p]\n",
    "        ts.append(t)\n",
    "        p = p.replace('/benkirk/fs_tests','')\n",
    "        p = p.replace('/cisl/csg','')\n",
    "\n",
    "        ls.append(p)\n",
    "    \n",
    "    ax.hist(ts, bins=bins,\n",
    "            zorder=10,\n",
    "            alpha=1,\n",
    "            stacked=True,\n",
    "            label=ls),\n",
    "    \n",
    "    #ax.set_xlim(fastest, slowest)\n",
    "    ax.set_ylim(-1,None)\n",
    "    ax.set_xlabel(xlabel)\n",
    "    ax.set_ylabel('Count (#)')\n",
    "    ax.legend(fancybox=True, loc=1)\n",
    "    \n",
    "    \n",
    "    plt.show()\n",
    "    fig.savefig('histogram.png', bbox_inches='tight', dpi=150, transparent=False)\n",
    "    plt.close()\n",
    "    return"
   ]
  },
  {
   "cell_type": "code",
   "execution_count": null,
   "id": "050f3e1a-f576-4a22-a55c-95236c854bb5",
   "metadata": {},
   "outputs": [],
   "source": [
    "def history(items,title,ylabel):\n",
    "\n",
    "    selected = set(items)\n",
    "    \n",
    "    fig, ax = plt.subplots(1, 1,\n",
    "                           figsize=(12,6))\n",
    "    format_ax(ax)\n",
    "\n",
    "    colors = {}\n",
    "\n",
    "    for k in sorted(dfs.keys()):        \n",
    "        df=dfs[k]\n",
    "        #print(k)\n",
    "        p = fname2path[k]\n",
    "        if p not in items: continue\n",
    "        p = p.replace('/benkirk/fs_tests','')\n",
    "        p = p.replace('/cisl/csg','')\n",
    "        #print(p)\n",
    "        #print(df)\n",
    "        for t in df.index:\n",
    "            start = t\n",
    "            duration = df.loc[t,'Elapsed(s)']\n",
    "            end = start + pd.to_timedelta(duration, unit='seconds')\n",
    "            #print(start,duration, end)\n",
    "            l = ax.plot([start, end], \n",
    "                        [duration, duration], \n",
    "                        color=colors[p] if p in colors else None,\n",
    "                        label=p if p not in colors else None,\n",
    "                        linewidth=4)\n",
    "            \n",
    "            colors[p] = l[0].get_color()\n",
    "\n",
    "    #ax.set_ylim(0, slowest*1.05)\n",
    "    ax.set_ylim(-1,None)\n",
    "    ax.set_ylabel(ylabel)\n",
    "    ax.set_title(title)\n",
    "    ax.set_xlabel('Date & Time')\n",
    "    ax.legend(fancybox=True, loc=2)\n",
    "    ax.tick_params(axis='x', labelrotation=60)\n",
    "    \n",
    "    plt.show()\n",
    "    fig.savefig('history.png', bbox_inches='tight', dpi=150, transparent=False)\n",
    "    plt.close()\n",
    "    return"
   ]
  },
  {
   "cell_type": "code",
   "execution_count": null,
   "id": "480f7dc1-1ea0-4e7a-ad11-bfb5d140e46f",
   "metadata": {},
   "outputs": [],
   "source": [
    "import ipywidgets as widgets\n",
    "def selection(list=None,selected=None):\n",
    "    if not selected:\n",
    "        selected=list\n",
    "    w = widgets.SelectMultiple(options=sorted(list),\n",
    "                               value=selected,\n",
    "                               rows=len(list),\n",
    "                               description='CSVs',\n",
    "                               layout={'width': 'initial'},\n",
    "                               disabled=False)\n",
    "    display(w)\n",
    "    return w"
   ]
  },
  {
   "cell_type": "code",
   "execution_count": null,
   "id": "7f85fcdf-008c-4a54-88ad-95421f4e7872",
   "metadata": {},
   "outputs": [],
   "source": [
    "date_bounds = load_metadata()\n",
    "print(date_bounds)\n",
    "sel = selection(sorted(list(paths)),\n",
    "                selected=[x for x in sorted(list(paths)) if 'home' not in x] )"
   ]
  },
  {
   "cell_type": "code",
   "execution_count": null,
   "id": "deadadaf-8f3a-45e6-be4f-8bdcd13413a6",
   "metadata": {},
   "outputs": [],
   "source": [
    "print(sel.value)"
   ]
  },
  {
   "cell_type": "markdown",
   "id": "71986a90-52d6-49c7-9463-542f94b144b0",
   "metadata": {},
   "source": [
    "## Test 1 - git clone times"
   ]
  },
  {
   "cell_type": "code",
   "execution_count": null,
   "id": "7e6bc36b-c39c-4a11-93ac-0f5d335d1947",
   "metadata": {},
   "outputs": [],
   "source": [
    "fastest, slowest = load_data('logs/*-GIT_CLONE.csv')"
   ]
  },
  {
   "cell_type": "code",
   "execution_count": null,
   "id": "a23289f4-dd14-4226-b056-ab4873dbe66f",
   "metadata": {},
   "outputs": [],
   "source": [
    "#print(sel.value)\n",
    "label='CESM git clone + ./manage_externals/checkout_externals'\n",
    "histogram(sel.value, xlabel=label)\n",
    "history(sel.value, title=label, ylabel='CESM clone time (s)')"
   ]
  },
  {
   "cell_type": "markdown",
   "id": "1dc2ff7d-4653-456d-8715-7343b7512b6e",
   "metadata": {},
   "source": [
    "## Test 2 - `tar cv`"
   ]
  },
  {
   "cell_type": "code",
   "execution_count": null,
   "id": "ec88b0e7-f1dc-4c87-b636-707421f031c0",
   "metadata": {},
   "outputs": [],
   "source": [
    "fastest, slowest = load_data('logs/*-TAR.csv')"
   ]
  },
  {
   "cell_type": "code",
   "execution_count": null,
   "id": "e1a6b797-4621-4838-91ae-e0d6848cba15",
   "metadata": {},
   "outputs": [],
   "source": [
    "label='tar cf my_cesm_sandbox.tar my_cesm_sandbox/'\n",
    "histogram(sel.value, xlabel=label)\n",
    "history(sel.value, title=label, ylabel='tar creation time (s)')"
   ]
  },
  {
   "cell_type": "markdown",
   "id": "6206963c-7685-4342-9f08-973714cdba43",
   "metadata": {},
   "source": [
    "## Test 3 - `dd if=/dev/zero of=0.dat bs=1M count=24000`"
   ]
  },
  {
   "cell_type": "code",
   "execution_count": null,
   "id": "79c8a3f8-08f9-48d2-a9e5-880645781595",
   "metadata": {},
   "outputs": [],
   "source": [
    "fastest, slowest = load_data('logs/*-DD.csv')"
   ]
  },
  {
   "cell_type": "code",
   "execution_count": null,
   "id": "fe322424-e380-402d-b99a-875f98c5cef3",
   "metadata": {},
   "outputs": [],
   "source": [
    "label='dd if=/dev/zero of=0.dat bs=1M count=24000'\n",
    "histogram(sel.value, xlabel=label)\n",
    "history(sel.value, title=label, ylabel='dd 25GB write')"
   ]
  },
  {
   "cell_type": "markdown",
   "id": "57566630-0816-4c4d-ad38-802e261c9c58",
   "metadata": {},
   "source": [
    "## Test 4 - `rsync` (single file system)"
   ]
  },
  {
   "cell_type": "code",
   "execution_count": null,
   "id": "c49a9378-e15b-4546-a15b-60ac862cd786",
   "metadata": {},
   "outputs": [],
   "source": [
    "fastest, slowest = load_data('logs/*-RSYNC.csv')"
   ]
  },
  {
   "cell_type": "code",
   "execution_count": null,
   "id": "59c90e42-0f3b-44bf-ab22-5f1ccdc6cdd3",
   "metadata": {},
   "outputs": [],
   "source": [
    "label='rsync (SRC/DEST on same file system)'\n",
    "histogram(sel.value, xlabel=label)\n",
    "history(sel.value, title=label, ylabel='rsync')"
   ]
  },
  {
   "cell_type": "markdown",
   "id": "2c6b5bb6-6c82-4221-a994-2b771261f1a9",
   "metadata": {},
   "source": [
    "## Test 6 - cleanup"
   ]
  },
  {
   "cell_type": "code",
   "execution_count": null,
   "id": "aa8b326b-ceed-49f7-81a9-43e30fe6d8c5",
   "metadata": {},
   "outputs": [],
   "source": [
    "fastest, slowest = load_data('logs/*-CLEANUP.csv')"
   ]
  },
  {
   "cell_type": "code",
   "execution_count": null,
   "id": "ba448887-6e96-4b65-9c70-02321cc60e26",
   "metadata": {},
   "outputs": [],
   "source": [
    "label='cleanup'\n",
    "histogram(sel.value, xlabel=label)\n",
    "history(sel.value, title=label, ylabel='cleanup')"
   ]
  },
  {
   "cell_type": "code",
   "execution_count": null,
   "id": "c15a10e2-7b4c-4b0e-a44f-a23343ce9b39",
   "metadata": {},
   "outputs": [],
   "source": []
  }
 ],
 "metadata": {
  "kernelspec": {
   "display_name": "Python 3 (ipykernel)",
   "language": "python",
   "name": "python3"
  },
  "language_info": {
   "codemirror_mode": {
    "name": "ipython",
    "version": 3
   },
   "file_extension": ".py",
   "mimetype": "text/x-python",
   "name": "python",
   "nbconvert_exporter": "python",
   "pygments_lexer": "ipython3",
   "version": "3.10.13"
  }
 },
 "nbformat": 4,
 "nbformat_minor": 5
}
